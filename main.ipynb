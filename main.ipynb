{
 "cells": [
  {
   "cell_type": "markdown",
   "metadata": {},
   "source": [
    "##### Raspagem automática de comentários da plataforma de jogos Steam - \"Last Day Of June\" em PT-br \n",
    "##### Passos :\n",
    "+ Coleta do ID do Jogo\n",
    "+ Raspagem de dados com a biblioteca requests - salvos em sample.json\n",
    "+ Filtragem apenas das reviews \n",
    "+ Registrar os dados no arquivo database.xlsx"
   ]
  },
  {
   "cell_type": "markdown",
   "metadata": {},
   "source": [
    "##### Coleta do ID do jogo \"Last Day os June\""
   ]
  },
  {
   "cell_type": "code",
   "execution_count": 13,
   "metadata": {},
   "outputs": [
    {
     "name": "stdout",
     "output_type": "stream",
     "text": [
      "ID obtido:635320\n"
     ]
    }
   ],
   "source": [
    "from scrapping_reviews import get_app_id\n",
    "id_game=get_app_id(\"Last Day of June\")\n",
    "print(f\"ID obtido:{id_game}\")"
   ]
  },
  {
   "cell_type": "markdown",
   "metadata": {},
   "source": [
    "##### Raspagem de dados sobre o jogo com a biblioteca\n",
    "+ Armazenar dados de 260 reviews no arquivo sample.json "
   ]
  },
  {
   "cell_type": "code",
   "execution_count": 14,
   "metadata": {},
   "outputs": [],
   "source": [
    "from scrapping_reviews import get_n_reviews\n",
    "import json\n",
    "\n",
    "reviews = get_n_reviews(id_game,260)\n",
    "\n",
    "#escrever/armazenar os dados em um arquivo \"sample.json\"\n",
    "json_object = json.dumps(reviews, indent = 4,ensure_ascii = False) \n",
    "with open(\"sample.json\", \"w\") as outfile: \n",
    "    outfile.write(json_object) "
   ]
  },
  {
   "cell_type": "markdown",
   "metadata": {},
   "source": [
    "##### Filtrar apenas os comentários e armazena-los em uma lista de reviews"
   ]
  },
  {
   "cell_type": "code",
   "execution_count": 15,
   "metadata": {},
   "outputs": [
    {
     "name": "stdout",
     "output_type": "stream",
     "text": [
      "Número de Reviews coletadas:  260\n"
     ]
    }
   ],
   "source": [
    "from scrapping_reviews import only_review\n",
    "\n",
    "reviews_list = only_review(\"sample.json\")"
   ]
  },
  {
   "cell_type": "markdown",
   "metadata": {},
   "source": [
    "##### Registrar dados da lista de reviews no arquivo database.xlsx"
   ]
  },
  {
   "cell_type": "code",
   "execution_count": 16,
   "metadata": {},
   "outputs": [],
   "source": [
    "import scrapping_reviews \n",
    "\n",
    "scrapping_reviews.table_DataBase(reviews_list)"
   ]
  }
 ],
 "metadata": {
  "kernelspec": {
   "display_name": "Python 3.8.10 64-bit",
   "language": "python",
   "name": "python3"
  },
  "language_info": {
   "codemirror_mode": {
    "name": "ipython",
    "version": 3
   },
   "file_extension": ".py",
   "mimetype": "text/x-python",
   "name": "python",
   "nbconvert_exporter": "python",
   "pygments_lexer": "ipython3",
   "version": "3.8.10"
  },
  "orig_nbformat": 4,
  "vscode": {
   "interpreter": {
    "hash": "916dbcbb3f70747c44a77c7bcd40155683ae19c65e1c03b4aa3499c5328201f1"
   }
  }
 },
 "nbformat": 4,
 "nbformat_minor": 2
}
