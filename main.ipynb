{
 "cells": [
  {
   "cell_type": "markdown",
   "metadata": {},
   "source": [
    "##### Raspagem automática de comentários da plataforma de jogos Steam - \"Last Day Of June\" em PT-br \n",
    "##### Passos :\n",
    "+ Coleta do ID do Jogo\n",
    "+ Raspagem de dados com a biblioteca requests - salvos em sample.json\n",
    "+ Filtragem apenas das reviews \n",
    "+ Registrar os dados no arquivo database.xlsx"
   ]
  },
  {
   "cell_type": "markdown",
   "metadata": {},
   "source": [
    "##### Coleta do ID do jogo \"Last Day os June\""
   ]
  },
  {
   "cell_type": "code",
   "execution_count": 46,
   "metadata": {},
   "outputs": [],
   "source": [
    "from scrapping_reviews import get_app_id\n",
    "from scrapping_reviews import get_n_reviews\n",
    "from scrapping_reviews import only_review\n",
    "from scrapping_reviews import table_DataBase\n",
    "import json\n"
   ]
  },
  {
   "cell_type": "code",
   "execution_count": 53,
   "metadata": {},
   "outputs": [
    {
     "name": "stdout",
     "output_type": "stream",
     "text": [
      "ID obtido:635320\n"
     ]
    }
   ],
   "source": [
    "id_game=get_app_id(\"Last Day of June\")\n",
    "print(f\"ID obtido:{id_game}\")"
   ]
  },
  {
   "cell_type": "markdown",
   "metadata": {},
   "source": [
    "##### Raspagem de dados sobre o jogo com a biblioteca\n",
    "+ Armazenar dados de 260 reviews no arquivo sample.json "
   ]
  },
  {
   "cell_type": "code",
   "execution_count": 55,
   "metadata": {},
   "outputs": [],
   "source": [
    "reviews = get_n_reviews(id_game,260)\n",
    "\n",
    "#escrever/armazenar os dados em um arquivo \"sample.json\"\n",
    "json_object = json.dumps(reviews, indent = 4,ensure_ascii = False) \n",
    "with open(\"sample.json\", \"w\",encoding=\"utf-8\") as outfile: \n",
    "    outfile.write(json_object) "
   ]
  },
  {
   "cell_type": "markdown",
   "metadata": {},
   "source": [
    "##### Filtrar apenas os comentários e armazena-los em uma lista de reviews"
   ]
  },
  {
   "cell_type": "code",
   "execution_count": 56,
   "metadata": {},
   "outputs": [
    {
     "name": "stdout",
     "output_type": "stream",
     "text": [
      "Número de Reviews coletadas:  260\n"
     ]
    }
   ],
   "source": [
    "reviews_list = only_review(\"sample.json\")"
   ]
  },
  {
   "cell_type": "markdown",
   "metadata": {},
   "source": [
    "##### Registrar dados da lista de reviews no arquivo database.xlsx"
   ]
  },
  {
   "cell_type": "code",
   "execution_count": 57,
   "metadata": {},
   "outputs": [],
   "source": [
    "table_DataBase(reviews_list)"
   ]
  },
  {
   "attachments": {},
   "cell_type": "markdown",
   "metadata": {},
   "source": [
    "### Life Strange"
   ]
  },
  {
   "cell_type": "code",
   "execution_count": 13,
   "metadata": {},
   "outputs": [
    {
     "name": "stdout",
     "output_type": "stream",
     "text": [
      "ID obtido:532210\n"
     ]
    }
   ],
   "source": [
    "LFid_game=get_app_id(\"Life is Strange\")\n",
    "print(f\"ID obtido:{LFid_game}\")"
   ]
  },
  {
   "cell_type": "code",
   "execution_count": 31,
   "metadata": {},
   "outputs": [],
   "source": [
    "reviewsLF = get_n_reviews(LFid_game,10000)\n",
    "\n",
    "#escrever/armazenar os dados em um arquivo \"sample.json\"\n",
    "json_objectLF = json.dumps(reviewsLF, indent = 4,ensure_ascii = False) \n",
    "with open(\"LifeStrange.json\", \"w\",encoding=\"utf-8\") as outfile: \n",
    "    outfile.write(json_objectLF)"
   ]
  },
  {
   "cell_type": "code",
   "execution_count": 32,
   "metadata": {},
   "outputs": [
    {
     "name": "stdout",
     "output_type": "stream",
     "text": [
      "Número de Reviews coletadas:  1901\n"
     ]
    }
   ],
   "source": [
    "reviews_listLF = only_review(\"LifeStrange.json\")"
   ]
  },
  {
   "cell_type": "code",
   "execution_count": 39,
   "metadata": {},
   "outputs": [],
   "source": [
    "table_DataBase(reviews_listLF)"
   ]
  },
  {
   "attachments": {},
   "cell_type": "markdown",
   "metadata": {},
   "source": [
    "### That Dragon, Cancer"
   ]
  },
  {
   "cell_type": "code",
   "execution_count": 15,
   "metadata": {},
   "outputs": [
    {
     "name": "stdout",
     "output_type": "stream",
     "text": [
      "ID obtido:419460\n"
     ]
    }
   ],
   "source": [
    "TDCid_game=get_app_id(\"That Dragon, Cancer\")\n",
    "print(f\"ID obtido:{TDCid_game}\")"
   ]
  },
  {
   "cell_type": "code",
   "execution_count": 47,
   "metadata": {},
   "outputs": [],
   "source": [
    "reviewsTDC= get_n_reviews(TDCid_game,10000)\n",
    "\n",
    "#escrever/armazenar os dados em um arquivo \"sample.json\"\n",
    "json_objectTDC = json.dumps(reviewsTDC, indent = 4,ensure_ascii = False) \n",
    "with open(\"ThatDragonCancer.json\", \"w\",encoding=\"utf-8\") as outfile: \n",
    "    outfile.write(json_objectTDC)"
   ]
  },
  {
   "cell_type": "code",
   "execution_count": 48,
   "metadata": {},
   "outputs": [
    {
     "name": "stdout",
     "output_type": "stream",
     "text": [
      "Número de Reviews coletadas:  25\n"
     ]
    }
   ],
   "source": [
    "reviews_listTDC = only_review(\"ThatDragonCancer.json\")"
   ]
  },
  {
   "cell_type": "code",
   "execution_count": 49,
   "metadata": {},
   "outputs": [],
   "source": [
    "table_DataBase(reviews_listTDC)"
   ]
  },
  {
   "attachments": {},
   "cell_type": "markdown",
   "metadata": {},
   "source": [
    "#### Fragments Of Him"
   ]
  },
  {
   "cell_type": "code",
   "execution_count": 17,
   "metadata": {},
   "outputs": [
    {
     "name": "stdout",
     "output_type": "stream",
     "text": [
      "ID obtido:428540\n"
     ]
    }
   ],
   "source": [
    "FOHid_game=get_app_id(\"Fragments of Him\")\n",
    "print(f\"ID obtido:{FOHid_game}\")"
   ]
  },
  {
   "cell_type": "code",
   "execution_count": 43,
   "metadata": {},
   "outputs": [],
   "source": [
    "reviewsFOH= get_n_reviews(FOHid_game,10000)\n",
    "\n",
    "#escrever/armazenar os dados em um arquivo \"sample.json\"\n",
    "json_objectFOH = json.dumps(reviewsFOH, indent = 4,ensure_ascii = False) \n",
    "with open(\"FragmentsOfHim.json\", \"w\",encoding=\"utf-8\") as outfile: \n",
    "    outfile.write(json_objectFOH)"
   ]
  },
  {
   "cell_type": "code",
   "execution_count": 44,
   "metadata": {},
   "outputs": [
    {
     "name": "stdout",
     "output_type": "stream",
     "text": [
      "Número de Reviews coletadas:  2\n"
     ]
    }
   ],
   "source": [
    "reviews_listFOH = only_review(\"FragmentsOfHim.json\")"
   ]
  },
  {
   "cell_type": "code",
   "execution_count": 45,
   "metadata": {},
   "outputs": [],
   "source": [
    "table_DataBase(reviews_listFOH)"
   ]
  }
 ],
 "metadata": {
  "kernelspec": {
   "display_name": "Python 3.11.0 64-bit",
   "language": "python",
   "name": "python3"
  },
  "language_info": {
   "codemirror_mode": {
    "name": "ipython",
    "version": 3
   },
   "file_extension": ".py",
   "mimetype": "text/x-python",
   "name": "python",
   "nbconvert_exporter": "python",
   "pygments_lexer": "ipython3",
   "version": "3.10.11"
  },
  "orig_nbformat": 4,
  "vscode": {
   "interpreter": {
    "hash": "dda3b3dfa5eff7d2f1902e852f4f52aaeedcabeecfedb8630090f625d2a4ccca"
   }
  }
 },
 "nbformat": 4,
 "nbformat_minor": 2
}
